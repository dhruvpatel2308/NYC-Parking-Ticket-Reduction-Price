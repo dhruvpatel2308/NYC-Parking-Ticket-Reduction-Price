{
 "cells": [
  {
   "cell_type": "code",
   "execution_count": 48,
   "id": "bd37c3a9",
   "metadata": {},
   "outputs": [],
   "source": [
    "import time\n",
    "from webdriver_manager.chrome import ChromeDriverManager\n",
    "from selenium import webdriver\n",
    "from selenium.webdriver.common.by import By\n",
    "#import org.openqa.selenium.support.ui.Select;\n",
    "#import selenium.webdriver.support.select\n",
    "from selenium.webdriver.support.ui import Select\n",
    "from selenium.webdriver.support.ui import WebDriverWait\n",
    "from selenium.webdriver.support import expected_conditions as EC\n",
    "from datetime import datetime\n"
   ]
  },
  {
   "cell_type": "code",
   "execution_count": 49,
   "id": "5d4a1fff",
   "metadata": {},
   "outputs": [
    {
     "name": "stderr",
     "output_type": "stream",
     "text": [
      "The chromedriver version (117.0.5938.149) detected in PATH at C:\\Users\\gazal\\Step Presentation 2\\chromedriver.exe might not be compatible with the detected chrome version (118.0.5993.70); currently, chromedriver 118.0.5993.70 is recommended for chrome 118.*, so it is advised to delete the driver in PATH and retry\n"
     ]
    }
   ],
   "source": [
    "driver = webdriver.Chrome()\n",
    "\n",
    "#directing to the website to fetch data\n",
    "driver.get(\"https://data.cityofnewyork.us/City-Government/Parking-Violations-Issued-Fiscal-Year-2023/pvqr-7yc4\")\n",
    "\n",
    "#clicking on view data\n",
    "driver.find_element(By.LINK_TEXT,'View Data').click()\n",
    "time.sleep(4)\n",
    "\n",
    "#clicking on issue date filtering menu\n",
    "driver.find_element(By.XPATH,\"//*[@id='column-header-issue_date-4']/div[1]/button\").click()\n",
    "time.sleep(4)\n",
    "\n",
    "#clicking on filter button from dropdown\n",
    "driver.find_element(By.ID,\"column-header-issue_date-4-dropdown-picklist-0\").click()\n",
    "time.sleep(4)\n",
    "\n",
    "#on the filter pane clicking on the start date input box\n",
    "driver.find_element(By.XPATH,\"//*[@id='ast-node-47-13']/div/div[1]/div/input\").click()\n",
    "time.sleep(4)\n",
    "\n",
    "\n",
    "#selecting desired start date and time from calender\n",
    "\n",
    "#selecting start month year\n",
    "date_format = \"%B %Y\"\n",
    "desired_month_year = \"January 2022\"\n",
    "desired_month_year = datetime.strptime(desired_month_year,date_format)\n",
    "\n",
    "while True:\n",
    "    current_month_year_display = driver.find_element(By.XPATH, \"//*[@id='ast-node-47-13']/div/div[2]/div[2]/div/div/div[2]/div[1]/div[1]\").text\n",
    "    current_month_year_display = datetime.strptime(current_month_year_display,date_format) \n",
    "    time.sleep(4)\n",
    "    \n",
    "    if current_month_year_display == desired_month_year:\n",
    "        break\n",
    "        \n",
    "    elif(current_month_year_display > desired_month_year):\n",
    "        driver.find_element(By.XPATH,\"//*[@id='ast-node-47-13']/div/div[2]/div[2]/div/div/button[1]\").click()\n",
    "        time.sleep(4)\n",
    "    \n",
    "    else:\n",
    "        driver.find_element(By.XPATH,\" //*[@id='ast-node-47-13']/div/div[2]/div[2]/div/div/button[2]\").click()\n",
    "        time.sleep(4)\n",
    "        \n",
    "\n",
    "       \n",
    "    \n",
    "\n",
    "\n",
    "#selectt = Select()\n",
    "#driver.get(\" \")\n",
    "#driver.find_element(By.LINK_TEXT,'View Data').send_keys('dp@gmail.com')\n",
    "#filter_button.click()\n",
    "#drop.select_by_visible_text(\"Filter\")\n",
    "#until(EC.element_to_be_clickable((issue_date_menu))).click()\n",
    "#wait = WebDriverWait(driver, 50)\n",
    "#filter_button=wait.until(EC.element_to_be_clickable((By.ID,\"column-header-issue_date-4-dropdown-picklist-0\")))\n",
    "#driver.Select(find_element(By.ID,\"column-header-issue_date-4\")).click()\n",
    "#driver.find_element(By.XPATH,\"//button[normalize-space()='Export']//span[@class='forge-button__ripple']\").click()\n",
    "#driver.find_element(By.XPATH,\"//html//body//forge-dialog//div//forge-scaffold//div[3]//forge-toolbar//forge-button[2]//button//span\").click()\n",
    "#time.sleep(4)\n",
    "\n"
   ]
  },
  {
   "cell_type": "code",
   "execution_count": null,
   "id": "26482611",
   "metadata": {},
   "outputs": [],
   "source": []
  }
 ],
 "metadata": {
  "kernelspec": {
   "display_name": "Python 3 (ipykernel)",
   "language": "python",
   "name": "python3"
  },
  "language_info": {
   "codemirror_mode": {
    "name": "ipython",
    "version": 3
   },
   "file_extension": ".py",
   "mimetype": "text/x-python",
   "name": "python",
   "nbconvert_exporter": "python",
   "pygments_lexer": "ipython3",
   "version": "3.10.9"
  }
 },
 "nbformat": 4,
 "nbformat_minor": 5
}
